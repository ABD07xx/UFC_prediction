{
 "cells": [
  {
   "cell_type": "code",
   "execution_count": 2,
   "metadata": {},
   "outputs": [
    {
     "data": {
      "text/plain": [
       "(RandomForestClassifier(random_state=42), StandardScaler())"
      ]
     },
     "execution_count": 2,
     "metadata": {},
     "output_type": "execute_result"
    }
   ],
   "source": [
    "import joblib\n",
    "\n",
    "# Load the model and scaler from the provided files\n",
    "model = joblib.load('fighter_prediction_model.pkl')\n",
    "scaler = joblib.load('fighter_prediction_scaler.pkl')\n",
    "\n",
    "# Confirm loading was successful\n",
    "(model, scaler)\n"
   ]
  },
  {
   "cell_type": "code",
   "execution_count": 4,
   "metadata": {},
   "outputs": [],
   "source": [
    "import pandas as pd"
   ]
  },
  {
   "cell_type": "code",
   "execution_count": null,
   "metadata": {},
   "outputs": [
    {
     "name": "stdout",
     "output_type": "stream",
     "text": [
      "The predicted winner is Aiemann Zahabi.\n"
     ]
    },
    {
     "name": "stderr",
     "output_type": "stream",
     "text": [
      "c:\\Users\\msi\\anaconda3\\Lib\\site-packages\\sklearn\\base.py:439: UserWarning: X does not have valid feature names, but StandardScaler was fitted with feature names\n",
      "  warnings.warn(\n"
     ]
    }
   ],
   "source": [
    "def predict_fight_outcome(fighter1_name, fighter2_name):\n",
    "    # Load the dataset\n",
    "\n",
    "    data = pd.read_csv('FinalCleanedData.csv')\n",
    "    \n",
    "    # Function to parse fighter records into wins, losses, and ties\n",
    "    def parse_record(record):\n",
    "        parts = record.split('-')\n",
    "        wins = int(parts[0])\n",
    "        losses = int(parts[1].split(' ')[0])  # Modify to split and take the first part only\n",
    "        ties = int(parts[2].split(' ')[0]) if len(parts) > 2 else 0\n",
    "        return wins, losses, ties\n",
    "    \n",
    "    # Calculate derived features for the dataset\n",
    "    data[['Wins', 'Losses', 'Ties']] = data['Overall Record'].apply(\n",
    "        lambda x: pd.Series(parse_record(x))\n",
    "    )\n",
    "    data['Win-Loss Ratio'] = data['Wins'] / (data['Losses'] + 1)\n",
    "    data['Strike Differential'] = data['Sig. Strikes Landed/min'] - data['Sig. Strikes Absorbed/min']\n",
    "    data['Experience'] = data['Wins'] + data['Losses'] + data['Ties']\n",
    "    \n",
    "    # Find the data for both fighters\n",
    "    fighter1_data = data[data['Fighter Name'] == fighter1_name]\n",
    "    fighter2_data = data[data['Fighter Name'] == fighter2_name]\n",
    "    \n",
    "    # If either fighter is not found, return an error message\n",
    "    if fighter1_data.empty or fighter2_data.empty:\n",
    "        missing_fighters = []\n",
    "        if fighter1_data.empty:\n",
    "            missing_fighters.append(fighter1_name)\n",
    "        if fighter2_data.empty:\n",
    "            missing_fighters.append(fighter2_name)\n",
    "        return f\"Fighter(s) {', '.join(missing_fighters)} not found in the dataset.\"\n",
    "    \n",
    "    # Features as defined in training with suffixes _1 and _2 for each fighter\n",
    "    feature_columns = [\n",
    "        'Age', 'Height', 'Reach', 'Wins', 'Losses', 'Ties', 'Win-Loss Ratio',\n",
    "        'Sig. Strikes Landed/min', 'Sig. Strikes Absorbed/min', 'Strike Differential',\n",
    "        'Striking Accuracy (%)', 'Striking Defense (%)', 'Experience', 'Odds'\n",
    "    ]\n",
    "    features_1 = {f\"{feat}_1\": fighter1_data[feat].values[0] for feat in feature_columns}\n",
    "    features_2 = {f\"{feat}_2\": fighter2_data[feat].values[0] for feat in feature_columns}\n",
    "    \n",
    "    # Create combined feature array\n",
    "    combined_features = list(features_1.values()) + list(features_2.values())\n",
    "    \n",
    "    # Scale the features using the loaded scaler\n",
    "    scaled_features = scaler.transform([combined_features])\n",
    "    \n",
    "    # Predict using the model\n",
    "    prediction = model.predict(scaled_features)\n",
    "    \n",
    "    # Return the winner based on the prediction result\n",
    "    if prediction[0] == 0:\n",
    "        return fighter2_name  # Fighter 2 is predicted to win\n",
    "    else:\n",
    "        return fighter1_name  # Fighter 1 is predicted to win\n",
    "\n",
    "# Example usage: Predict outcome for a fight between two fighters\n",
    "winner = predict_fight_outcome('Aiemann Zahabi', 'Javid Basharat')\n",
    "print(f\"The predicted winner is {winner}.\")\n"
   ]
  },
  {
   "cell_type": "code",
   "execution_count": null,
   "metadata": {},
   "outputs": [],
   "source": []
  }
 ],
 "metadata": {
  "kernelspec": {
   "display_name": "base",
   "language": "python",
   "name": "python3"
  },
  "language_info": {
   "codemirror_mode": {
    "name": "ipython",
    "version": 3
   },
   "file_extension": ".py",
   "mimetype": "text/x-python",
   "name": "python",
   "nbconvert_exporter": "python",
   "pygments_lexer": "ipython3",
   "version": "3.11.5"
  }
 },
 "nbformat": 4,
 "nbformat_minor": 2
}
